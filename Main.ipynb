{
 "cells": [
  {
   "cell_type": "markdown",
   "id": "c76c9ee3",
   "metadata": {},
   "source": [
    "# An intermediate user's guide to RegEx"
   ]
  },
  {
   "cell_type": "code",
   "execution_count": 85,
   "id": "2f3a40c3",
   "metadata": {},
   "outputs": [],
   "source": [
    "import re"
   ]
  },
  {
   "cell_type": "markdown",
   "id": "1627cf1d",
   "metadata": {},
   "source": [
    "## Nuances of the `re` module\n",
    "### The main regex module of Python"
   ]
  },
  {
   "cell_type": "markdown",
   "id": "9cc44543",
   "metadata": {},
   "source": [
    "Module level functions vs. pattern level functions"
   ]
  },
  {
   "cell_type": "markdown",
   "id": "dde3fb4a",
   "metadata": {},
   "source": [
    "#### Grouping"
   ]
  },
  {
   "cell_type": "markdown",
   "id": "59806231",
   "metadata": {},
   "source": [
    "`.group()` vs. `.groups()`"
   ]
  },
  {
   "cell_type": "markdown",
   "id": "50ecc55e",
   "metadata": {},
   "source": [
    "`.findall()`"
   ]
  },
  {
   "cell_type": "markdown",
   "id": "74ab6f69",
   "metadata": {},
   "source": [
    "(I prefer this) `.finditer()`"
   ]
  },
  {
   "cell_type": "markdown",
   "id": "6648e5b0",
   "metadata": {},
   "source": [
    "Creating regex patterns using formatted strings"
   ]
  },
  {
   "cell_type": "markdown",
   "id": "b868979c",
   "metadata": {},
   "source": [
    "##### Side note:\n",
    "The reason I think these are intermediate features, is because you get by without knowing these, and still implement simple regexes in real code.\n",
    "\n",
    "At the same time, I don't think these are Advanced either. Those would include Sub-routines and really exploring look-arounds, as well as recursion (Yeah, I know. It's crazy that you can do recursion in Regex)"
   ]
  },
  {
   "cell_type": "markdown",
   "id": "c435f01d",
   "metadata": {},
   "source": [
    "# Bonus"
   ]
  },
  {
   "cell_type": "markdown",
   "id": "254393de",
   "metadata": {},
   "source": [
    "## Raw Strings\n",
    "Python raw string is created by prefixing a string literal with 'r' or 'R'.\n",
    "\n",
    "from https://blog.devgenius.io/beauty-of-raw-strings-in-python-fa627d674cbf:<br>\n",
    "Python raw string treats backslash(`\\`) as a literal character.\n",
    "It is useful when we want to have a string that contains backslash(`\\`) and don’t want it to be treated as an escape character."
   ]
  },
  {
   "cell_type": "code",
   "execution_count": 1,
   "id": "5dd72da6",
   "metadata": {},
   "outputs": [],
   "source": [
    "raw_string = r\"\\n\"\n",
    "regular_string = \"\\n\""
   ]
  },
  {
   "cell_type": "code",
   "execution_count": 2,
   "id": "c19001c9",
   "metadata": {},
   "outputs": [
    {
     "data": {
      "text/plain": [
       "False"
      ]
     },
     "execution_count": 2,
     "metadata": {},
     "output_type": "execute_result"
    }
   ],
   "source": [
    "raw_string == regular_string"
   ]
  },
  {
   "cell_type": "code",
   "execution_count": 12,
   "id": "8a051142",
   "metadata": {},
   "outputs": [
    {
     "data": {
      "text/plain": [
       "True"
      ]
     },
     "execution_count": 12,
     "metadata": {},
     "output_type": "execute_result"
    }
   ],
   "source": [
    "raw_string == \"\\\\n\" # Note no 'r' in front of the string literal"
   ]
  },
  {
   "cell_type": "markdown",
   "id": "7ec48fa0",
   "metadata": {},
   "source": [
    "### Why do we need to use raw strings in regex\n",
    "Because the regex engine interprets backslashes in a special way, like when you put `\\d` in a regex pattern. But python interprets these backslashes in a separate way, and that creates a conflict.<p>"
   ]
  },
  {
   "cell_type": "markdown",
   "id": "8967e5f9",
   "metadata": {},
   "source": [
    "- Say your document or actual text contains `\\d`, and you want to match that.\n",
    "- You could create a regex pattern with just that - `\\d`, but it won't match with the `\\d` in your text because `\\d` has a special meaning in regex, namely that it matches with a numerical digit (0,1,2...9).\n",
    "    - So (side note) if you wanted to match with any digit in your text like `4` or `7`, a regex pattern of `\\d` will catch any of those digits\n",
    "- (Back to original use case) So the regex pattern we create is to catch the literal character `\\` followed by literal character `d` but without any special meaning in this juxtaposition.\n",
    "- In the regex world, you do this by 'escaping' your backslash, so the regex pattern needs to be `\\\\d`"
   ]
  },
  {
   "cell_type": "code",
   "execution_count": 79,
   "id": "e5890800",
   "metadata": {},
   "outputs": [
    {
     "name": "stdout",
     "output_type": "stream",
     "text": [
      "None\n"
     ]
    }
   ],
   "source": [
    "match = re.match('\\\\d','\\d')\n",
    "print(match)"
   ]
  },
  {
   "cell_type": "markdown",
   "id": "2e9a33e1",
   "metadata": {},
   "source": [
    "##### Why didn't this work?"
   ]
  },
  {
   "cell_type": "markdown",
   "id": "06756f41",
   "metadata": {},
   "source": [
    "The reason is that when you create Python strings literals with backslashes, they are processed in a unique Pythonic way (which I don't know a lot about tbh, but my point is we that don't need to). This messes up the regex pattern that is passed to the regex engine, and the pattern ends up being something different from what we intended.\n",
    "\n",
    "So in order to use backslashes in strings in Python, without attributing any special meaning to them, we have to escape them, by putting another backslash (`\\`) behind them."
   ]
  },
  {
   "cell_type": "markdown",
   "id": "5bd4836e",
   "metadata": {},
   "source": [
    "So as you can imagine, since we have two `\\` in our actual regex pattern that we want to pass to the regex engine, `\\\\d`, we need to escape both the backslashes when representing this pattern as a Python string, and the final string that will work in this use case is `\\\\\\\\d` <-- four backslashes"
   ]
  },
  {
   "cell_type": "code",
   "execution_count": 81,
   "id": "9f9f029c",
   "metadata": {},
   "outputs": [
    {
     "name": "stdout",
     "output_type": "stream",
     "text": [
      "<re.Match object; span=(0, 2), match='\\\\d'>\n"
     ]
    }
   ],
   "source": [
    "match = re.match('\\\\\\\\d','\\d')\n",
    "print(match)"
   ]
  },
  {
   "cell_type": "markdown",
   "id": "08658c7e",
   "metadata": {},
   "source": [
    "This is where <b>Raw Strings</b> come in to save the day. As mentioned in the beginning, raw strings treat backslashes as a literal character. So we don't need to escape the backslashes in the regex pattern. We can simply pass `r'\\\\d'` to the regex engine"
   ]
  },
  {
   "cell_type": "code",
   "execution_count": 84,
   "id": "4fa4ba1c",
   "metadata": {},
   "outputs": [
    {
     "name": "stdout",
     "output_type": "stream",
     "text": [
      "<re.Match object; span=(0, 2), match='\\\\d'>\n"
     ]
    }
   ],
   "source": [
    "print(re.match(r'\\\\d', '\\d'))"
   ]
  },
  {
   "cell_type": "markdown",
   "id": "051489ab",
   "metadata": {},
   "source": [
    "<b><u>Takeaway</b></u>: Raw strings are not a strict requirement, but make your life easier when working with regular expressions, as you don't need to worry about Python messing up your regex pattern containing backslashes. And trust me, backslashes are a pretty common feature of regexes."
   ]
  },
  {
   "cell_type": "markdown",
   "id": "d0060e9d",
   "metadata": {},
   "source": [
    "### Raw Strings Bonus"
   ]
  },
  {
   "cell_type": "markdown",
   "id": "f21cd2d7",
   "metadata": {},
   "source": [
    "#### repr() Magic function\n",
    "From a stackoverflow post - The goal of `__repr__` is to be unambiguous - https://stackoverflow.com/questions/1436703/what-is-the-difference-between-str-and-repr. So it shows the underlying representation of the obejct"
   ]
  },
  {
   "cell_type": "code",
   "execution_count": 4,
   "id": "c84f5029",
   "metadata": {},
   "outputs": [
    {
     "name": "stdout",
     "output_type": "stream",
     "text": [
      "'\\\\n'\n"
     ]
    }
   ],
   "source": [
    "print(repr(raw_string))"
   ]
  },
  {
   "cell_type": "code",
   "execution_count": 5,
   "id": "4dd4e613",
   "metadata": {},
   "outputs": [
    {
     "name": "stdout",
     "output_type": "stream",
     "text": [
      "'\\n'\n"
     ]
    }
   ],
   "source": [
    "print(repr(regular_string))"
   ]
  },
  {
   "cell_type": "code",
   "execution_count": 6,
   "id": "453f85de",
   "metadata": {},
   "outputs": [
    {
     "name": "stdout",
     "output_type": "stream",
     "text": [
      "length of raw string: 2\n",
      "length of regular string: 1\n"
     ]
    }
   ],
   "source": [
    "print(f\"length of raw string: {len(raw_string)}\")\n",
    "print(f\"length of regular string: {len(regular_string)}\")"
   ]
  },
  {
   "cell_type": "code",
   "execution_count": 7,
   "id": "2fd25497",
   "metadata": {},
   "outputs": [
    {
     "name": "stdout",
     "output_type": "stream",
     "text": [
      "'\\\\'\n"
     ]
    }
   ],
   "source": [
    "print(repr(raw_string[0]))"
   ]
  },
  {
   "cell_type": "code",
   "execution_count": 8,
   "id": "954f5392",
   "metadata": {},
   "outputs": [
    {
     "name": "stdout",
     "output_type": "stream",
     "text": [
      "'\\n'\n"
     ]
    }
   ],
   "source": [
    "print(repr(regular_string[0]))"
   ]
  },
  {
   "cell_type": "code",
   "execution_count": 9,
   "id": "30dace9d",
   "metadata": {},
   "outputs": [
    {
     "name": "stdout",
     "output_type": "stream",
     "text": [
      "type of raw string: <class 'str'>\n",
      "type of regular string: <class 'str'>\n"
     ]
    }
   ],
   "source": [
    "print(f\"type of raw string: {type(raw_string)}\")\n",
    "print(f\"type of regular string: {type(regular_string)}\")"
   ]
  }
 ],
 "metadata": {
  "kernelspec": {
   "display_name": "regex_venv",
   "language": "python",
   "name": "regex_venv"
  },
  "language_info": {
   "codemirror_mode": {
    "name": "ipython",
    "version": 3
   },
   "file_extension": ".py",
   "mimetype": "text/x-python",
   "name": "python",
   "nbconvert_exporter": "python",
   "pygments_lexer": "ipython3",
   "version": "3.9.5"
  }
 },
 "nbformat": 4,
 "nbformat_minor": 5
}
