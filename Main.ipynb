{
 "cells": [
  {
   "cell_type": "markdown",
   "metadata": {},
   "source": [
    "# An intermediate user's guide to RegEx"
   ]
  },
  {
   "cell_type": "code",
   "execution_count": 2,
   "metadata": {},
   "outputs": [],
   "source": [
    "import re"
   ]
  },
  {
   "cell_type": "markdown",
   "metadata": {},
   "source": [
    "### Prerequisites\n",
    "- Understand basic Python syntax (strings, lists, loops)\n",
    "- Understand what an object is, what a function is\n",
    "- Understand the very basics of regular expressions, in that they are used for string processing tasks and some simple metacharacters like `*`, `?`, `\\d`"
   ]
  },
  {
   "cell_type": "markdown",
   "metadata": {},
   "source": [
    "### Let's begin\n",
    "My main motivation for further researching the `re` module (Python's regex module), and writing about it, was that I have often relied on using RegEx in my code, but outside of very simple expressions, I was never comfortable using it in enterprise level code (code that is shared by my team and deployed for our customers). I have relied on Stack Overflow for very simple regular expressions but nothing beyond because I didn't fully understand the more complex ones.\n",
    "\n",
    "And despite how well written some of the Stackoverflow posts are, there were many doubts in my mind. For example I vividly remember seeing `(?:...)` in some answers, but not appreciating why the author put `?:` inside the parentheses. I tried doing an AB test (with and without the `?:`), and I couldn't deciper the effect this syntax has. Now that I have read much more about RegEx and tried it out, I know this construct is called a 'non-capturing group'. I will unpack this and other features of `re` in this article, which, I think, if you understand, will make you an intermediate user of RegEx.\n",
    "\n",
    "To give you another spoiler (which will create more context for this article), the core building block on which intermediate usage of regex is built, is Grouping. And that's the core learning I'm trying to share in this article. Many powerful regex features, mentioned here and otherwise, build on top of Grouping, so it will serve you well to understand Grouping well."
   ]
  },
  {
   "cell_type": "markdown",
   "metadata": {},
   "source": [
    "##### Side note:\n",
    "The reason I think these are intermediate features, is because you get by without knowing these, and still implement simple regexes in real code.\n",
    "\n",
    "At the same time, I don't think these are Advanced either. Those would include Sub-routines and really exploring look-arounds, as well as recursion (Yeah, I know. It's crazy that you can do recursion in Regex)"
   ]
  },
  {
   "cell_type": "markdown",
   "metadata": {},
   "source": [
    "### Housekeeping items\n",
    "These may be insightful for you too, and important building blocks for an intermediate Python RegEx user, so read them carefully."
   ]
  },
  {
   "cell_type": "markdown",
   "metadata": {},
   "source": [
    "#### 1. Raw Strings\n",
    "A Python raw string is created by prefixing a string literal with 'r' or 'R', like so: `r\"Hello world\"`\n",
    "\n",
    "As explained in https://blog.devgenius.io/beauty-of-raw-strings-in-python-fa627d674cbf:\n",
    "Python raw string treats backslash(`\\`) as a literal character.\n",
    "It is useful when we want to have a string that contains backslash(`\\`) and don’t want it to be treated as an escape character."
   ]
  },
  {
   "cell_type": "markdown",
   "metadata": {},
   "source": [
    "__Why do we need to use raw strings in regex__<br>\n",
    "Because the RegEx engine interprets backslashes in a special way, like when you put `\\d` in a regex pattern. But python interprets these backslashes in a certain, non-literal, way as well, which creates a conflict."
   ]
  },
  {
   "cell_type": "markdown",
   "metadata": {},
   "source": [
    "So this is why people use raw strings to create regular expressions in Python (read some of the Stack Overflow answers about RegEx if you don't believe me). It's not strictly necessary, but makes your life much easier. To read more about this, check out the Appendix section in this article, where I explain the benefits with some examples."
   ]
  },
  {
   "cell_type": "markdown",
   "metadata": {},
   "source": [
    "#### 2. Module level functions vs. Object level functions\n",
    "\n",
    "Firstly, there are 4 main functions to match a regex in a string\n",
    "- `match()` - Returns first matching substring as a `re.Match` object, if found at the start of string\n",
    "- `search()` - Returns first matching substring as a `re.Match` object, found anywhere in the string\n",
    "- `findall()` - Returns all matching substrings as a list of strings\n",
    "- `finditer()` - Returns an interater of `re.Match` objects, for all matching substrings in the string"
   ]
  },
  {
   "cell_type": "markdown",
   "metadata": {},
   "source": [
    "The first way you can use these functions is by using them via a __Pattern object__. A Pattern object is what you get when you compile a regex string (`re.compile`). And the above functions become available as attributes of the pattern object, which can be invoked in the following way:"
   ]
  },
  {
   "cell_type": "code",
   "execution_count": 31,
   "metadata": {},
   "outputs": [
    {
     "name": "stdout",
     "output_type": "stream",
     "text": [
      "p is a <class 're.Pattern'> object\n",
      "\n",
      "p.match(test_string) = None\n",
      "\n",
      "p.search(test_string) = <re.Match object; span=(3, 14), match='3rd article'>\n",
      "\n",
      "p.findall(test_string) = ['3rd article', '2nd article']\n",
      "\n",
      "p.finditer(test_string) = <callable_iterator object at 0x7fbbbe1efbe0>\n",
      "Match # 0 = <re.Match object; span=(3, 14), match='3rd article'>\n",
      "Match # 1 = <re.Match object; span=(19, 30), match='2nd article'>\n"
     ]
    }
   ],
   "source": [
    "# Maybe break up the following cell into smaller cells before putting it in article\n",
    "regex_string = r'(?:1st|2nd|3rd|\\dth) article'\n",
    "p = re.compile(regex_string)\n",
    "\n",
    "print(f\"p is a {type(p)} object\\n\")\n",
    "\n",
    "test_string = \"My 3rd article and 2nd article\"\n",
    "\n",
    "print(f\"p.match(test_string) = {p.match(test_string)}\\n\")\n",
    "\n",
    "print(f\"p.search(test_string) = {p.search(test_string)}\\n\")\n",
    "\n",
    "print(f\"p.findall(test_string) = {p.findall(test_string)}\\n\")\n",
    "\n",
    "matches_iterable = p.finditer(test_string)\n",
    "print(f\"p.finditer(test_string) = {matches_iterable}\")\n",
    "for i, match in enumerate(matches_iterable):\n",
    "    print(f\"Match # {i} = {match}\")\n",
    "    \n",
    "    \n",
    "# TODO: In the article, consider using screenshots of doing this in a Terminal"
   ]
  },
  {
   "cell_type": "markdown",
   "metadata": {},
   "source": [
    "Similarly, you can do all these matches without creating a Pattern object too, by calling functions available on the 'Module level', like so:"
   ]
  },
  {
   "cell_type": "code",
   "execution_count": 68,
   "metadata": {},
   "outputs": [
    {
     "name": "stdout",
     "output_type": "stream",
     "text": [
      "regex_string = (?:1st|2nd|3rd|\\dth) article\n",
      "But there's no need to compile it\n",
      "\n",
      "re.match(regex_string, test_string) = None\n",
      "\n",
      "re.search(regex_string, test_string) = <re.Match object; span=(3, 14), match='3rd article'>\n",
      "\n",
      "re.findall(regex_string, test_string) = ['3rd article', '2nd article']\n",
      "\n",
      "re.finditer(regex_string, test_string) = <callable_iterator object at 0x0000029BBBC92550>\n",
      "Match # 0 = <re.Match object; span=(3, 14), match='3rd article'>\n",
      "Match # 1 = <re.Match object; span=(19, 30), match='2nd article'>\n"
     ]
    }
   ],
   "source": [
    "# Maybe break up the following cell into smaller cells before putting it in article\n",
    "regex_string = r'(?:1st|2nd|3rd|\\dth) article'\n",
    "print(f\"regex_string = {regex_string}\\nBut there's no need to compile it\\n\")\n",
    "test_string = \"My 3rd article and 2nd article\"\n",
    "\n",
    "print(f\"re.match(regex_string, test_string) = {re.match(regex_string, test_string)}\\n\")\n",
    "\n",
    "print(f\"re.search(regex_string, test_string) = {re.search(regex_string, test_string)}\\n\")\n",
    "\n",
    "print(f\"re.findall(regex_string, test_string) = {re.findall(regex_string, test_string)}\\n\")\n",
    "\n",
    "matches_iterable = re.finditer(regex_string, test_string)\n",
    "print(f\"re.finditer(regex_string, test_string) = {matches_iterable}\")\n",
    "for i, match in enumerate(matches_iterable):\n",
    "    print(f\"Match # {i} = {match}\")"
   ]
  },
  {
   "cell_type": "markdown",
   "metadata": {},
   "source": [
    "<b><u>Takeaway</u></b>:There's 2 convenient ways to use regex matching methods. Both will produce the same results. The only reason you may favor the __Pattern level__ functions is from a computation efficiency standpoint - to save the compiled pattern once and use it again. As opposed to __Module level__ functions that re-compile the regex pattern every time you want to match it with a string. <p>_Side Note_: Actually the Module level functions also store compiled objects in a cache, so realistically, there isn't a big difference unless you have a lot of regex calls using different regex patterns."
   ]
  },
  {
   "cell_type": "markdown",
   "metadata": {},
   "source": [
    "### Grouping"
   ]
  },
  {
   "cell_type": "markdown",
   "metadata": {},
   "source": [
    "Groups are marked by the `(` and `)` metacharacters. Conceptually, they are interpreted in the same way parentheses are treated in mathematical expressions.\n",
    "<br><br>For example, if you see `(2+3)*5` in algebra, you know that the `2+3` is its own entity, or a group.\n",
    "<br><br>Similarly, `r\"(ab)c\"` in regex means `ab` is a group. Currently, it is no different from `r\"abc\"`, but you can use grouping with other metacharacters to make powerful regexes. For example `r\"(ab)*c\"` will catch expressions where you can have 0 or more instances of `ab` followed by a `c`."
   ]
  },
  {
   "cell_type": "code",
   "execution_count": 32,
   "metadata": {},
   "outputs": [
    {
     "name": "stdout",
     "output_type": "stream",
     "text": [
      "<re.Match object; span=(0, 1), match='c'>\n",
      "<re.Match object; span=(0, 3), match='abc'>\n",
      "<re.Match object; span=(0, 5), match='ababc'>\n"
     ]
    }
   ],
   "source": [
    "regex_with_group = r'(ab)*c'\n",
    "print(re.search(regex_with_group, 'c'))\n",
    "print(re.search(regex_with_group, 'abc'))\n",
    "print(re.search(regex_with_group, 'ababc'))"
   ]
  },
  {
   "cell_type": "markdown",
   "metadata": {},
   "source": [
    "#### Next\n",
    "Actually groups can also be retrieved individually using the functions like `group()`"
   ]
  },
  {
   "cell_type": "code",
   "execution_count": 21,
   "metadata": {},
   "outputs": [
    {
     "data": {
      "text/plain": [
       "'ab'"
      ]
     },
     "execution_count": 21,
     "metadata": {},
     "output_type": "execute_result"
    }
   ],
   "source": [
    "regex_with_group = r'(ab)*c'\n",
    "m = re.search(regex_with_group, 'ababc')\n",
    "m.group(1)"
   ]
  },
  {
   "cell_type": "markdown",
   "metadata": {},
   "source": [
    "Here we retrieved the first group (index starts at 1)\n",
    "<br><br>Actually `m.group(0)` or `m.group()` (default argument is 0) will just give you the whole matching string. So the index of every group in your regex starts from 1 onward.\n",
    "<br><br>In fact, when you see Stackoverflow regex posts, most of them return the matching string by calling `m.group()` right (calling `.group()` on the match object `m`). This is the same as `m.group(0)` because 0 is the default argument of `.group()`."
   ]
  },
  {
   "cell_type": "markdown",
   "metadata": {},
   "source": [
    "#### Next\n",
    "You can even reference a group later in the same regex using a backslash and the index of the group"
   ]
  },
  {
   "cell_type": "code",
   "execution_count": 27,
   "metadata": {
    "scrolled": true
   },
   "outputs": [
    {
     "name": "stdout",
     "output_type": "stream",
     "text": [
      "ababcab\n"
     ]
    }
   ],
   "source": [
    "regex_with_group = r'(ab)*c\\1'\n",
    "m = re.search(regex_with_group, 'ababcabab')\n",
    "print(m.group(0))"
   ]
  },
  {
   "cell_type": "markdown",
   "metadata": {},
   "source": [
    "Here, the `\\1` matches with the group `ab` since that is the first group in the regex"
   ]
  },
  {
   "cell_type": "markdown",
   "metadata": {},
   "source": [
    "#### Non-capturing groups"
   ]
  },
  {
   "cell_type": "markdown",
   "metadata": {},
   "source": [
    "When your group starts with a question mark and colon `?:`, it's a non-capturing group. So for example, `r\"(?:ab)c\"` is the same as before, but `ab` as a group is 'not captured'. Meaning it can't be identified using functions like `m.group(1)` or referenced later in the regex using backslashes like `\\1`. Let's see an example:"
   ]
  },
  {
   "cell_type": "code",
   "execution_count": 33,
   "metadata": {
    "collapsed": true
   },
   "outputs": [
    {
     "ename": "error",
     "evalue": "invalid group reference 1 at position 9",
     "output_type": "error",
     "traceback": [
      "\u001b[0;31m---------------------------------------------------------------------------\u001b[0m",
      "\u001b[0;31merror\u001b[0m                                     Traceback (most recent call last)",
      "\u001b[0;32m/var/folders/0t/jxmdh1l55mq2zh0vbr1t284h0000gn/T/ipykernel_45187/2079584421.py\u001b[0m in \u001b[0;36m<module>\u001b[0;34m\u001b[0m\n\u001b[1;32m      1\u001b[0m \u001b[0mregex_with_group\u001b[0m \u001b[0;34m=\u001b[0m \u001b[0;34mr'(?:ab)*c\\1'\u001b[0m\u001b[0;34m\u001b[0m\u001b[0;34m\u001b[0m\u001b[0m\n\u001b[0;32m----> 2\u001b[0;31m \u001b[0mm\u001b[0m \u001b[0;34m=\u001b[0m \u001b[0mre\u001b[0m\u001b[0;34m.\u001b[0m\u001b[0msearch\u001b[0m\u001b[0;34m(\u001b[0m\u001b[0mregex_with_group\u001b[0m\u001b[0;34m,\u001b[0m \u001b[0;34m'ababcabab'\u001b[0m\u001b[0;34m)\u001b[0m\u001b[0;34m\u001b[0m\u001b[0;34m\u001b[0m\u001b[0m\n\u001b[0m\u001b[1;32m      3\u001b[0m \u001b[0mprint\u001b[0m\u001b[0;34m(\u001b[0m\u001b[0mm\u001b[0m\u001b[0;34m.\u001b[0m\u001b[0mgroup\u001b[0m\u001b[0;34m(\u001b[0m\u001b[0;36m0\u001b[0m\u001b[0;34m)\u001b[0m\u001b[0;34m)\u001b[0m\u001b[0;34m\u001b[0m\u001b[0;34m\u001b[0m\u001b[0m\n",
      "\u001b[0;32m/Library/Frameworks/Python.framework/Versions/3.8/lib/python3.8/re.py\u001b[0m in \u001b[0;36msearch\u001b[0;34m(pattern, string, flags)\u001b[0m\n\u001b[1;32m    199\u001b[0m     \"\"\"Scan through string looking for a match to the pattern, returning\n\u001b[1;32m    200\u001b[0m     a Match object, or None if no match was found.\"\"\"\n\u001b[0;32m--> 201\u001b[0;31m     \u001b[0;32mreturn\u001b[0m \u001b[0m_compile\u001b[0m\u001b[0;34m(\u001b[0m\u001b[0mpattern\u001b[0m\u001b[0;34m,\u001b[0m \u001b[0mflags\u001b[0m\u001b[0;34m)\u001b[0m\u001b[0;34m.\u001b[0m\u001b[0msearch\u001b[0m\u001b[0;34m(\u001b[0m\u001b[0mstring\u001b[0m\u001b[0;34m)\u001b[0m\u001b[0;34m\u001b[0m\u001b[0;34m\u001b[0m\u001b[0m\n\u001b[0m\u001b[1;32m    202\u001b[0m \u001b[0;34m\u001b[0m\u001b[0m\n\u001b[1;32m    203\u001b[0m \u001b[0;32mdef\u001b[0m \u001b[0msub\u001b[0m\u001b[0;34m(\u001b[0m\u001b[0mpattern\u001b[0m\u001b[0;34m,\u001b[0m \u001b[0mrepl\u001b[0m\u001b[0;34m,\u001b[0m \u001b[0mstring\u001b[0m\u001b[0;34m,\u001b[0m \u001b[0mcount\u001b[0m\u001b[0;34m=\u001b[0m\u001b[0;36m0\u001b[0m\u001b[0;34m,\u001b[0m \u001b[0mflags\u001b[0m\u001b[0;34m=\u001b[0m\u001b[0;36m0\u001b[0m\u001b[0;34m)\u001b[0m\u001b[0;34m:\u001b[0m\u001b[0;34m\u001b[0m\u001b[0;34m\u001b[0m\u001b[0m\n",
      "\u001b[0;32m/Library/Frameworks/Python.framework/Versions/3.8/lib/python3.8/re.py\u001b[0m in \u001b[0;36m_compile\u001b[0;34m(pattern, flags)\u001b[0m\n\u001b[1;32m    302\u001b[0m     \u001b[0;32mif\u001b[0m \u001b[0;32mnot\u001b[0m \u001b[0msre_compile\u001b[0m\u001b[0;34m.\u001b[0m\u001b[0misstring\u001b[0m\u001b[0;34m(\u001b[0m\u001b[0mpattern\u001b[0m\u001b[0;34m)\u001b[0m\u001b[0;34m:\u001b[0m\u001b[0;34m\u001b[0m\u001b[0;34m\u001b[0m\u001b[0m\n\u001b[1;32m    303\u001b[0m         \u001b[0;32mraise\u001b[0m \u001b[0mTypeError\u001b[0m\u001b[0;34m(\u001b[0m\u001b[0;34m\"first argument must be string or compiled pattern\"\u001b[0m\u001b[0;34m)\u001b[0m\u001b[0;34m\u001b[0m\u001b[0;34m\u001b[0m\u001b[0m\n\u001b[0;32m--> 304\u001b[0;31m     \u001b[0mp\u001b[0m \u001b[0;34m=\u001b[0m \u001b[0msre_compile\u001b[0m\u001b[0;34m.\u001b[0m\u001b[0mcompile\u001b[0m\u001b[0;34m(\u001b[0m\u001b[0mpattern\u001b[0m\u001b[0;34m,\u001b[0m \u001b[0mflags\u001b[0m\u001b[0;34m)\u001b[0m\u001b[0;34m\u001b[0m\u001b[0;34m\u001b[0m\u001b[0m\n\u001b[0m\u001b[1;32m    305\u001b[0m     \u001b[0;32mif\u001b[0m \u001b[0;32mnot\u001b[0m \u001b[0;34m(\u001b[0m\u001b[0mflags\u001b[0m \u001b[0;34m&\u001b[0m \u001b[0mDEBUG\u001b[0m\u001b[0;34m)\u001b[0m\u001b[0;34m:\u001b[0m\u001b[0;34m\u001b[0m\u001b[0;34m\u001b[0m\u001b[0m\n\u001b[1;32m    306\u001b[0m         \u001b[0;32mif\u001b[0m \u001b[0mlen\u001b[0m\u001b[0;34m(\u001b[0m\u001b[0m_cache\u001b[0m\u001b[0;34m)\u001b[0m \u001b[0;34m>=\u001b[0m \u001b[0m_MAXCACHE\u001b[0m\u001b[0;34m:\u001b[0m\u001b[0;34m\u001b[0m\u001b[0;34m\u001b[0m\u001b[0m\n",
      "\u001b[0;32m/Library/Frameworks/Python.framework/Versions/3.8/lib/python3.8/sre_compile.py\u001b[0m in \u001b[0;36mcompile\u001b[0;34m(p, flags)\u001b[0m\n\u001b[1;32m    762\u001b[0m     \u001b[0;32mif\u001b[0m \u001b[0misstring\u001b[0m\u001b[0;34m(\u001b[0m\u001b[0mp\u001b[0m\u001b[0;34m)\u001b[0m\u001b[0;34m:\u001b[0m\u001b[0;34m\u001b[0m\u001b[0;34m\u001b[0m\u001b[0m\n\u001b[1;32m    763\u001b[0m         \u001b[0mpattern\u001b[0m \u001b[0;34m=\u001b[0m \u001b[0mp\u001b[0m\u001b[0;34m\u001b[0m\u001b[0;34m\u001b[0m\u001b[0m\n\u001b[0;32m--> 764\u001b[0;31m         \u001b[0mp\u001b[0m \u001b[0;34m=\u001b[0m \u001b[0msre_parse\u001b[0m\u001b[0;34m.\u001b[0m\u001b[0mparse\u001b[0m\u001b[0;34m(\u001b[0m\u001b[0mp\u001b[0m\u001b[0;34m,\u001b[0m \u001b[0mflags\u001b[0m\u001b[0;34m)\u001b[0m\u001b[0;34m\u001b[0m\u001b[0;34m\u001b[0m\u001b[0m\n\u001b[0m\u001b[1;32m    765\u001b[0m     \u001b[0;32melse\u001b[0m\u001b[0;34m:\u001b[0m\u001b[0;34m\u001b[0m\u001b[0;34m\u001b[0m\u001b[0m\n\u001b[1;32m    766\u001b[0m         \u001b[0mpattern\u001b[0m \u001b[0;34m=\u001b[0m \u001b[0;32mNone\u001b[0m\u001b[0;34m\u001b[0m\u001b[0;34m\u001b[0m\u001b[0m\n",
      "\u001b[0;32m/Library/Frameworks/Python.framework/Versions/3.8/lib/python3.8/sre_parse.py\u001b[0m in \u001b[0;36mparse\u001b[0;34m(str, flags, state)\u001b[0m\n\u001b[1;32m    946\u001b[0m \u001b[0;34m\u001b[0m\u001b[0m\n\u001b[1;32m    947\u001b[0m     \u001b[0;32mtry\u001b[0m\u001b[0;34m:\u001b[0m\u001b[0;34m\u001b[0m\u001b[0;34m\u001b[0m\u001b[0m\n\u001b[0;32m--> 948\u001b[0;31m         \u001b[0mp\u001b[0m \u001b[0;34m=\u001b[0m \u001b[0m_parse_sub\u001b[0m\u001b[0;34m(\u001b[0m\u001b[0msource\u001b[0m\u001b[0;34m,\u001b[0m \u001b[0mstate\u001b[0m\u001b[0;34m,\u001b[0m \u001b[0mflags\u001b[0m \u001b[0;34m&\u001b[0m \u001b[0mSRE_FLAG_VERBOSE\u001b[0m\u001b[0;34m,\u001b[0m \u001b[0;36m0\u001b[0m\u001b[0;34m)\u001b[0m\u001b[0;34m\u001b[0m\u001b[0;34m\u001b[0m\u001b[0m\n\u001b[0m\u001b[1;32m    949\u001b[0m     \u001b[0;32mexcept\u001b[0m \u001b[0mVerbose\u001b[0m\u001b[0;34m:\u001b[0m\u001b[0;34m\u001b[0m\u001b[0;34m\u001b[0m\u001b[0m\n\u001b[1;32m    950\u001b[0m         \u001b[0;31m# the VERBOSE flag was switched on inside the pattern.  to be\u001b[0m\u001b[0;34m\u001b[0m\u001b[0;34m\u001b[0m\u001b[0;34m\u001b[0m\u001b[0m\n",
      "\u001b[0;32m/Library/Frameworks/Python.framework/Versions/3.8/lib/python3.8/sre_parse.py\u001b[0m in \u001b[0;36m_parse_sub\u001b[0;34m(source, state, verbose, nested)\u001b[0m\n\u001b[1;32m    441\u001b[0m     \u001b[0mstart\u001b[0m \u001b[0;34m=\u001b[0m \u001b[0msource\u001b[0m\u001b[0;34m.\u001b[0m\u001b[0mtell\u001b[0m\u001b[0;34m(\u001b[0m\u001b[0;34m)\u001b[0m\u001b[0;34m\u001b[0m\u001b[0;34m\u001b[0m\u001b[0m\n\u001b[1;32m    442\u001b[0m     \u001b[0;32mwhile\u001b[0m \u001b[0;32mTrue\u001b[0m\u001b[0;34m:\u001b[0m\u001b[0;34m\u001b[0m\u001b[0;34m\u001b[0m\u001b[0m\n\u001b[0;32m--> 443\u001b[0;31m         itemsappend(_parse(source, state, verbose, nested + 1,\n\u001b[0m\u001b[1;32m    444\u001b[0m                            not nested and not items))\n\u001b[1;32m    445\u001b[0m         \u001b[0;32mif\u001b[0m \u001b[0;32mnot\u001b[0m \u001b[0msourcematch\u001b[0m\u001b[0;34m(\u001b[0m\u001b[0;34m\"|\"\u001b[0m\u001b[0;34m)\u001b[0m\u001b[0;34m:\u001b[0m\u001b[0;34m\u001b[0m\u001b[0;34m\u001b[0m\u001b[0m\n",
      "\u001b[0;32m/Library/Frameworks/Python.framework/Versions/3.8/lib/python3.8/sre_parse.py\u001b[0m in \u001b[0;36m_parse\u001b[0;34m(source, state, verbose, nested, first)\u001b[0m\n\u001b[1;32m    523\u001b[0m \u001b[0;34m\u001b[0m\u001b[0m\n\u001b[1;32m    524\u001b[0m         \u001b[0;32mif\u001b[0m \u001b[0mthis\u001b[0m\u001b[0;34m[\u001b[0m\u001b[0;36m0\u001b[0m\u001b[0;34m]\u001b[0m \u001b[0;34m==\u001b[0m \u001b[0;34m\"\\\\\"\u001b[0m\u001b[0;34m:\u001b[0m\u001b[0;34m\u001b[0m\u001b[0;34m\u001b[0m\u001b[0m\n\u001b[0;32m--> 525\u001b[0;31m             \u001b[0mcode\u001b[0m \u001b[0;34m=\u001b[0m \u001b[0m_escape\u001b[0m\u001b[0;34m(\u001b[0m\u001b[0msource\u001b[0m\u001b[0;34m,\u001b[0m \u001b[0mthis\u001b[0m\u001b[0;34m,\u001b[0m \u001b[0mstate\u001b[0m\u001b[0;34m)\u001b[0m\u001b[0;34m\u001b[0m\u001b[0;34m\u001b[0m\u001b[0m\n\u001b[0m\u001b[1;32m    526\u001b[0m             \u001b[0msubpatternappend\u001b[0m\u001b[0;34m(\u001b[0m\u001b[0mcode\u001b[0m\u001b[0;34m)\u001b[0m\u001b[0;34m\u001b[0m\u001b[0;34m\u001b[0m\u001b[0m\n\u001b[1;32m    527\u001b[0m \u001b[0;34m\u001b[0m\u001b[0m\n",
      "\u001b[0;32m/Library/Frameworks/Python.framework/Versions/3.8/lib/python3.8/sre_parse.py\u001b[0m in \u001b[0;36m_escape\u001b[0;34m(source, escape, state)\u001b[0m\n\u001b[1;32m    421\u001b[0m                 \u001b[0mstate\u001b[0m\u001b[0;34m.\u001b[0m\u001b[0mchecklookbehindgroup\u001b[0m\u001b[0;34m(\u001b[0m\u001b[0mgroup\u001b[0m\u001b[0;34m,\u001b[0m \u001b[0msource\u001b[0m\u001b[0;34m)\u001b[0m\u001b[0;34m\u001b[0m\u001b[0;34m\u001b[0m\u001b[0m\n\u001b[1;32m    422\u001b[0m                 \u001b[0;32mreturn\u001b[0m \u001b[0mGROUPREF\u001b[0m\u001b[0;34m,\u001b[0m \u001b[0mgroup\u001b[0m\u001b[0;34m\u001b[0m\u001b[0;34m\u001b[0m\u001b[0m\n\u001b[0;32m--> 423\u001b[0;31m             \u001b[0;32mraise\u001b[0m \u001b[0msource\u001b[0m\u001b[0;34m.\u001b[0m\u001b[0merror\u001b[0m\u001b[0;34m(\u001b[0m\u001b[0;34m\"invalid group reference %d\"\u001b[0m \u001b[0;34m%\u001b[0m \u001b[0mgroup\u001b[0m\u001b[0;34m,\u001b[0m \u001b[0mlen\u001b[0m\u001b[0;34m(\u001b[0m\u001b[0mescape\u001b[0m\u001b[0;34m)\u001b[0m \u001b[0;34m-\u001b[0m \u001b[0;36m1\u001b[0m\u001b[0;34m)\u001b[0m\u001b[0;34m\u001b[0m\u001b[0;34m\u001b[0m\u001b[0m\n\u001b[0m\u001b[1;32m    424\u001b[0m         \u001b[0;32mif\u001b[0m \u001b[0mlen\u001b[0m\u001b[0;34m(\u001b[0m\u001b[0mescape\u001b[0m\u001b[0;34m)\u001b[0m \u001b[0;34m==\u001b[0m \u001b[0;36m2\u001b[0m\u001b[0;34m:\u001b[0m\u001b[0;34m\u001b[0m\u001b[0;34m\u001b[0m\u001b[0m\n\u001b[1;32m    425\u001b[0m             \u001b[0;32mif\u001b[0m \u001b[0mc\u001b[0m \u001b[0;32min\u001b[0m \u001b[0mASCIILETTERS\u001b[0m\u001b[0;34m:\u001b[0m\u001b[0;34m\u001b[0m\u001b[0;34m\u001b[0m\u001b[0m\n",
      "\u001b[0;31merror\u001b[0m: invalid group reference 1 at position 9"
     ]
    }
   ],
   "source": [
    "regex_with_group = r'(?:ab)*c\\1'\n",
    "m = re.search(regex_with_group, 'ababcabab')\n",
    "print(m.group(0))"
   ]
  },
  {
   "cell_type": "markdown",
   "metadata": {},
   "source": [
    "Couldn't reference it"
   ]
  },
  {
   "cell_type": "code",
   "execution_count": 34,
   "metadata": {
    "collapsed": true
   },
   "outputs": [
    {
     "ename": "IndexError",
     "evalue": "no such group",
     "output_type": "error",
     "traceback": [
      "\u001b[0;31m---------------------------------------------------------------------------\u001b[0m",
      "\u001b[0;31mIndexError\u001b[0m                                Traceback (most recent call last)",
      "\u001b[0;32m/var/folders/0t/jxmdh1l55mq2zh0vbr1t284h0000gn/T/ipykernel_45187/1890214284.py\u001b[0m in \u001b[0;36m<module>\u001b[0;34m\u001b[0m\n\u001b[1;32m      1\u001b[0m \u001b[0mregex_with_group\u001b[0m \u001b[0;34m=\u001b[0m \u001b[0;34mr'(?:ab)*c'\u001b[0m\u001b[0;34m\u001b[0m\u001b[0;34m\u001b[0m\u001b[0m\n\u001b[1;32m      2\u001b[0m \u001b[0mm\u001b[0m \u001b[0;34m=\u001b[0m \u001b[0mre\u001b[0m\u001b[0;34m.\u001b[0m\u001b[0msearch\u001b[0m\u001b[0;34m(\u001b[0m\u001b[0mregex_with_group\u001b[0m\u001b[0;34m,\u001b[0m \u001b[0;34m'ababc'\u001b[0m\u001b[0;34m)\u001b[0m\u001b[0;34m\u001b[0m\u001b[0;34m\u001b[0m\u001b[0m\n\u001b[0;32m----> 3\u001b[0;31m \u001b[0mm\u001b[0m\u001b[0;34m.\u001b[0m\u001b[0mgroup\u001b[0m\u001b[0;34m(\u001b[0m\u001b[0;36m1\u001b[0m\u001b[0;34m)\u001b[0m\u001b[0;34m\u001b[0m\u001b[0;34m\u001b[0m\u001b[0m\n\u001b[0m",
      "\u001b[0;31mIndexError\u001b[0m: no such group"
     ]
    }
   ],
   "source": [
    "regex_with_group = r'(?:ab)*c'\n",
    "m = re.search(regex_with_group, 'ababc')\n",
    "m.group(1)"
   ]
  },
  {
   "cell_type": "markdown",
   "metadata": {},
   "source": [
    "Couldn't retrieve it"
   ]
  },
  {
   "cell_type": "markdown",
   "metadata": {},
   "source": [
    "That's it. If you are comfortable with the concepts explained so far, that is, what is a group and how we can define them, Congratulations!\n",
    "<br>I think you will find the following part to be a breeze."
   ]
  },
  {
   "cell_type": "markdown",
   "metadata": {},
   "source": [
    "### Intermediate RegEx feature #1\n",
    "`m.group()` vs. `m.groups()`"
   ]
  },
  {
   "cell_type": "markdown",
   "metadata": {},
   "source": [
    "One point of confusion for you may be seeing `m.group()` vs. `m.groups()` in code involving regular expressions. Now that you understand what Groups are in regular expressions, the difference between these two functions will be pretty straightforward to understand:\n",
    "1. `m.groups()` will give you a list of all captured groups in the regular expression. As you can imagine, non-capturing groups will not be included.\n",
    "2. `m.group(group_index)` will give you the group specified by the index. You can even specify multiple groups, in which case it returns a tuple of those groups. And as explained before, if you say `m.group()` or `m.group(0)`, it will return the whole matched string."
   ]
  },
  {
   "cell_type": "markdown",
   "metadata": {},
   "source": [
    "That's it. Let's see it in action"
   ]
  },
  {
   "cell_type": "code",
   "execution_count": 35,
   "metadata": {},
   "outputs": [],
   "source": [
    "#TODO: Write code to distinguish m.group(...) and m.groups()"
   ]
  },
  {
   "cell_type": "markdown",
   "metadata": {},
   "source": [
    "### Intermediate RegEx feature #2\n",
    "`findall()` vs. `finditer()`\n",
    "\n",
    "There is actually a nuance to `findall()`, which is applicable when using groups. I'll explain it in my words below, but for reference, it's summarized in the Python docs here - https://docs.python.org/3/library/re.html#re.findall.\n",
    "\n",
    "Basically, if you're using groups (1 or more) in your regex, the resulting list of strings from `findall()` may not be what you expect. If there's one group, you will only get a list of strings that match the group. If there are more groups, you'll get a list of tuples.\n",
    "\n",
    "As such, I don't use `findall()` in my code, except for a quick way of debugging my regex pattern. I only use `finditer()`, which will output an iterator over all matches (where a match matches the entire regex pattern, not just a given group in the pattern)"
   ]
  },
  {
   "cell_type": "markdown",
   "metadata": {},
   "source": [
    "## Bonus Features"
   ]
  },
  {
   "cell_type": "markdown",
   "metadata": {},
   "source": [
    "### Intermediate RegEx feature #3\n",
    "Creating regex patterns using formatted strings"
   ]
  },
  {
   "cell_type": "code",
   "execution_count": 36,
   "metadata": {},
   "outputs": [],
   "source": [
    "# TODO"
   ]
  },
  {
   "cell_type": "markdown",
   "metadata": {},
   "source": [
    "## Appendix"
   ]
  },
  {
   "cell_type": "markdown",
   "metadata": {},
   "source": [
    "### Why raw srtings, explained with examples"
   ]
  },
  {
   "cell_type": "code",
   "execution_count": 1,
   "metadata": {},
   "outputs": [],
   "source": [
    "raw_string = r\"\\n\"\n",
    "regular_string = \"\\n\""
   ]
  },
  {
   "cell_type": "code",
   "execution_count": 2,
   "metadata": {},
   "outputs": [
    {
     "data": {
      "text/plain": [
       "False"
      ]
     },
     "execution_count": 2,
     "metadata": {},
     "output_type": "execute_result"
    }
   ],
   "source": [
    "raw_string == regular_string"
   ]
  },
  {
   "cell_type": "code",
   "execution_count": 12,
   "metadata": {},
   "outputs": [
    {
     "data": {
      "text/plain": [
       "True"
      ]
     },
     "execution_count": 12,
     "metadata": {},
     "output_type": "execute_result"
    }
   ],
   "source": [
    "raw_string == \"\\\\n\" # Note no 'r' in front of the string literal"
   ]
  },
  {
   "cell_type": "markdown",
   "metadata": {},
   "source": [
    "- Say your document or actual text contains `\\d`, and you want to match that.\n",
    "- You could create a regex pattern with just that - `\\d`, but it won't match with the `\\d` in your text because `\\d` has a special meaning in regex, namely that it matches with a numerical digit (0,1,2...9).\n",
    "    - So (side note) if you wanted to match with any digit in your text like `4` or `7`, a regex pattern of `\\d` will catch any of those digits\n",
    "- (Back to original use case) So the regex pattern we create is to catch the literal character `\\` followed by literal character `d` but without any special meaning in this juxtaposition.\n",
    "- In the regex world, you do this by 'escaping' your backslash, so the regex pattern needs to be `\\\\d`"
   ]
  },
  {
   "cell_type": "code",
   "execution_count": 79,
   "metadata": {},
   "outputs": [
    {
     "name": "stdout",
     "output_type": "stream",
     "text": [
      "None\n"
     ]
    }
   ],
   "source": [
    "match = re.match('\\\\d','\\d')\n",
    "print(match)"
   ]
  },
  {
   "cell_type": "markdown",
   "metadata": {},
   "source": [
    "##### Why didn't this work?"
   ]
  },
  {
   "cell_type": "markdown",
   "metadata": {},
   "source": [
    "The reason is that when you create Python strings literals with backslashes, they are processed in a unique Pythonic way (which I don't know a lot about tbh, but my point is we that don't need to). This messes up the regex pattern that is passed to the regex engine, and the pattern ends up being something different from what we intended.\n",
    "\n",
    "So in order to use backslashes in strings in Python, without attributing any special meaning to them, we have to escape them, by putting another backslash (`\\`) behind them."
   ]
  },
  {
   "cell_type": "markdown",
   "metadata": {},
   "source": [
    "So as you can imagine, since we have two `\\` in our actual regex pattern that we want to pass to the regex engine, `\\\\d`, we need to escape both the backslashes when representing this pattern as a Python string, and the final string that will work in this use case is `\\\\\\\\d` <-- four backslashes"
   ]
  },
  {
   "cell_type": "code",
   "execution_count": 81,
   "metadata": {},
   "outputs": [
    {
     "name": "stdout",
     "output_type": "stream",
     "text": [
      "<re.Match object; span=(0, 2), match='\\\\d'>\n"
     ]
    }
   ],
   "source": [
    "match = re.match('\\\\\\\\d','\\d')\n",
    "print(match)"
   ]
  },
  {
   "cell_type": "markdown",
   "metadata": {},
   "source": [
    "This is where <b>Raw Strings</b> come in to save the day. As mentioned in the beginning, raw strings treat backslashes as a literal character. So we don't need to escape the backslashes in the regex pattern. We can simply pass `r'\\\\d'` to the regex engine"
   ]
  },
  {
   "cell_type": "code",
   "execution_count": 84,
   "metadata": {},
   "outputs": [
    {
     "name": "stdout",
     "output_type": "stream",
     "text": [
      "<re.Match object; span=(0, 2), match='\\\\d'>\n"
     ]
    }
   ],
   "source": [
    "print(re.match(r'\\\\d', '\\d'))"
   ]
  },
  {
   "cell_type": "markdown",
   "metadata": {},
   "source": [
    "<b><u>Takeaway</b></u>: Raw strings are not a strict requirement, but make your life easier when working with regular expressions, as you don't need to worry about Python messing up your regex pattern containing backslashes. And trust me, backslashes are a pretty common feature of regexes."
   ]
  },
  {
   "cell_type": "markdown",
   "metadata": {},
   "source": [
    "### repr() magic function\n",
    "Btw 'magic function' is NOT a term I came up with. It's an actual thing - https://www.tutorialsteacher.com/python/magic-methods-in-python.\n",
    "<br><br>Basically, the goal of `__repr__` or `repr()` is to unambiguously show the underlying representation of the obejct - https://stackoverflow.com/questions/1436703/what-is-the-difference-between-str-and-repr.\n",
    "<br><br>So we can use it to understand raw strings better"
   ]
  },
  {
   "cell_type": "code",
   "execution_count": 4,
   "metadata": {},
   "outputs": [
    {
     "name": "stdout",
     "output_type": "stream",
     "text": [
      "'\\\\n'\n"
     ]
    }
   ],
   "source": [
    "print(repr(raw_string))"
   ]
  },
  {
   "cell_type": "code",
   "execution_count": 5,
   "metadata": {},
   "outputs": [
    {
     "name": "stdout",
     "output_type": "stream",
     "text": [
      "'\\n'\n"
     ]
    }
   ],
   "source": [
    "print(repr(regular_string))"
   ]
  },
  {
   "cell_type": "code",
   "execution_count": 6,
   "metadata": {},
   "outputs": [
    {
     "name": "stdout",
     "output_type": "stream",
     "text": [
      "length of raw string: 2\n",
      "length of regular string: 1\n"
     ]
    }
   ],
   "source": [
    "print(f\"length of raw string: {len(raw_string)}\")\n",
    "print(f\"length of regular string: {len(regular_string)}\")"
   ]
  },
  {
   "cell_type": "code",
   "execution_count": 7,
   "metadata": {},
   "outputs": [
    {
     "name": "stdout",
     "output_type": "stream",
     "text": [
      "'\\\\'\n"
     ]
    }
   ],
   "source": [
    "print(repr(raw_string[0]))"
   ]
  },
  {
   "cell_type": "code",
   "execution_count": 8,
   "metadata": {},
   "outputs": [
    {
     "name": "stdout",
     "output_type": "stream",
     "text": [
      "'\\n'\n"
     ]
    }
   ],
   "source": [
    "print(repr(regular_string[0]))"
   ]
  },
  {
   "cell_type": "code",
   "execution_count": 9,
   "metadata": {},
   "outputs": [
    {
     "name": "stdout",
     "output_type": "stream",
     "text": [
      "type of raw string: <class 'str'>\n",
      "type of regular string: <class 'str'>\n"
     ]
    }
   ],
   "source": [
    "print(f\"type of raw string: {type(raw_string)}\")\n",
    "print(f\"type of regular string: {type(regular_string)}\")"
   ]
  }
 ],
 "metadata": {
  "kernelspec": {
   "display_name": "2021_regex",
   "language": "python",
   "name": "2021_regex"
  },
  "language_info": {
   "codemirror_mode": {
    "name": "ipython",
    "version": 3
   },
   "file_extension": ".py",
   "mimetype": "text/x-python",
   "name": "python",
   "nbconvert_exporter": "python",
   "pygments_lexer": "ipython3",
   "version": "3.8.3"
  }
 },
 "nbformat": 4,
 "nbformat_minor": 5
}
